{
 "cells": [
  {
   "cell_type": "code",
   "execution_count": 1,
   "id": "ee8da9f1",
   "metadata": {},
   "outputs": [],
   "source": [
    "import math\n",
    "import gzip\n",
    "import random\n",
    "import string\n",
    "import numpy as np\n",
    "from tqdm.notebook import tqdm "
   ]
  },
  {
   "cell_type": "code",
   "execution_count": 2,
   "id": "44ccdf74",
   "metadata": {},
   "outputs": [],
   "source": [
    "import sklearn\n",
    "\n",
    "#models\n",
    "from sklearn.linear_model import LinearRegression\n",
    "from sklearn.linear_model import LogisticRegression\n",
    "from sklearn.linear_model import RidgeClassifier # Linear Regression with Regularization support\n",
    "from sklearn.linear_model import LogisticRegressionCV # Logistic regression with cross validation generated using stratified K-folds\n",
    "\n",
    "from sklearn.naive_bayes import MultinomialNB\n",
    "from sklearn.multiclass import OneVsRestClassifier\n",
    "from sklearn.neighbors import KNeighborsClassifier\n",
    "\n",
    "from sklearn.model_selection import GridSearchCV\n",
    "\n",
    "#metrics\n",
    "from sklearn.metrics import accuracy_score\n",
    "from sklearn.metrics import balanced_accuracy_score\n",
    "from sklearn.metrics import mean_squared_error\n",
    "from sklearn.metrics import mean_absolute_error\n",
    "\n",
    "#preprocessing\n",
    "from sklearn.preprocessing import OneHotEncoder\n",
    "from sklearn.preprocessing import OrdinalEncoder\n",
    "from sklearn.preprocessing import LabelEncoder"
   ]
  },
  {
   "cell_type": "code",
   "execution_count": 3,
   "id": "9c269215",
   "metadata": {},
   "outputs": [
    {
     "name": "stdout",
     "output_type": "stream",
     "text": [
      "--------data--------\n",
      "[[ 1  2]\n",
      " [-1  3]\n",
      " [ 0  6]]\n",
      "--------standardized scaling--------\n",
      "[[ 1.22474487 -0.98058068]\n",
      " [-1.22474487 -0.39223227]\n",
      " [ 0.          1.37281295]]\n",
      "--------range scaling--------\n",
      "[[1.   0.  ]\n",
      " [0.   0.25]\n",
      " [0.5  1.  ]]\n",
      "[[ 3.   -2.  ]\n",
      " [-2.   -0.75]\n",
      " [ 0.5   3.  ]]\n",
      "--------robust scaling--------\n",
      "[[ 1.  -0.5]\n",
      " [-1.   0. ]\n",
      " [ 0.   1.5]]\n",
      "--------L2 normalization--------\n",
      "[[ 0.4472136   0.89442719]\n",
      " [-0.31622777  0.9486833 ]\n",
      " [ 0.          1.        ]]\n",
      "--------data imputation--------\n",
      "[[ 1.  2.]\n",
      " [-1.  3.]\n",
      " [ 0.  6.]]\n",
      "--------data--------\n",
      "[[ 1  2  3]\n",
      " [-1  3  5]\n",
      " [ 0  6  9]\n",
      " [-1  8 13]]\n",
      "--------PCA--------\n",
      "[[-5.377 -0.671 -0.097]\n",
      " [-2.949  1.086  0.033]\n",
      " [ 1.895 -0.499  0.182]\n",
      " [ 6.431  0.084 -0.119]]\n",
      "[[-5.377 -0.671 -0.097]\n",
      " [-2.949  1.086  0.033]\n",
      " [ 1.895 -0.499  0.182]\n",
      " [ 6.431  0.084 -0.119]]\n",
      "--------splitting data--------\n",
      "data shape: (1000, 10)  labels shape: (1000,)\n",
      "train data: (750, 10)  labels: (750,)\n",
      "test data: (250, 10)  labels: (250,)\n",
      "train data: (625, 10)  labels: (625,)\n",
      "test data: (375, 10)  labels: (375,)\n"
     ]
    }
   ],
   "source": [
    "#data preprocessing (using numpy inputs)\n",
    "#scaling\n",
    "data = np.array([[1, 2], [-1, 3], [0, 6]])\n",
    "print(\"--------data--------\")\n",
    "print(data)\n",
    "#standardized scaling\n",
    "from sklearn.preprocessing import scale\n",
    "col_standardized = scale(data) #scale each column\n",
    "col_means = col_standardized.mean(axis=0).round(decimals=3) # Column means (rounded to nearest thousandth)\n",
    "col_stds = col_standardized.std(axis=0) # Column standard deviations\n",
    "print(\"--------standardized scaling--------\")\n",
    "print(col_standardized)\n",
    "#range scaling\n",
    "from sklearn.preprocessing import MinMaxScaler\n",
    "default_scaler = MinMaxScaler() # the default range is [0,1]\n",
    "transformed = default_scaler.fit_transform(data)\n",
    "print(\"--------range scaling--------\")\n",
    "print(transformed)\n",
    "custom_scaler = MinMaxScaler(feature_range=(-2, 3))\n",
    "transformed = custom_scaler.fit_transform(data)\n",
    "print(transformed)\n",
    "\n",
    "#robust scaling -- to avoid effect of outlier on scaling\n",
    "from sklearn.preprocessing import RobustScaler\n",
    "robust_scaler = RobustScaler() #uses interquartile range\n",
    "transformed = robust_scaler.fit_transform(data)\n",
    "print(\"--------robust scaling--------\")\n",
    "print(transformed)\n",
    "\n",
    "#L2 normalization\n",
    "from sklearn.preprocessing import Normalizer\n",
    "normalizer = Normalizer()\n",
    "transformed = normalizer.fit_transform(data) #divides each entry by the columns normalized score\n",
    "print(\"--------L2 normalization--------\")\n",
    "print(transformed)\n",
    "\n",
    "#data imputation -- strategies: mean, median, mode, constant \n",
    "from sklearn.impute import SimpleImputer\n",
    "imp_mean = SimpleImputer() #default=mean\n",
    "transformed = imp_mean.fit_transform(data)\n",
    "print(\"--------data imputation--------\")\n",
    "print(transformed)\n",
    "\n",
    "imp_median = SimpleImputer(strategy='median')\n",
    "imp_frequent = SimpleImputer(strategy='most_frequent')\n",
    "imp_constant = SimpleImputer(strategy='constant',fill_value=-1)\n",
    "\n",
    "#advacned imputation - using k-nearest neighbours, MICE(multiple chained imputations)\n",
    "\n",
    "data = np.array([[1, 2, 3], [-1, 3, 5], [0, 6, 9], [-1, 8, 13]])\n",
    "print(\"--------data--------\")\n",
    "print(data)\n",
    "#PCA\n",
    "from sklearn.decomposition import PCA\n",
    "pca_obj = PCA() # The value of n_component will be m-1. As features are m and default is always m-1\n",
    "pc = pca_obj.fit_transform(data).round(3)\n",
    "print(\"--------PCA--------\")\n",
    "print(pc)\n",
    "pca_obj = PCA(n_components=3)\n",
    "pc = pca_obj.fit_transform(data).round(3)\n",
    "print(pc)\n",
    "\n",
    "#splitting data\n",
    "print(\"--------splitting data--------\")\n",
    "data = np.random.rand(1000, 10)\n",
    "labels = np.random.randint(2, size=1000)\n",
    "print(\"data shape:\", data.shape, \" labels shape:\", labels.shape)\n",
    "from sklearn.model_selection import train_test_split\n",
    "split_dataset = train_test_split(data, labels) #default train = 0.75, test = 0.25\n",
    "print(\"train data:\", split_dataset[0].shape, \" labels:\", split_dataset[2].shape)\n",
    "print(\"test data:\", split_dataset[1].shape, \" labels:\", split_dataset[3].shape)\n",
    "split_dataset = train_test_split(data, labels, test_size=0.375) #specify test size\n",
    "print(\"train data:\", split_dataset[0].shape, \" labels:\", split_dataset[2].shape)\n",
    "print(\"test data:\", split_dataset[1].shape, \" labels:\", split_dataset[3].shape)\n",
    "\n",
    "X_train, X_test, y_train, y_test = split_dataset"
   ]
  },
  {
   "cell_type": "markdown",
   "id": "809e7613",
   "metadata": {},
   "source": [
    "##### Models"
   ]
  },
  {
   "cell_type": "code",
   "execution_count": 4,
   "id": "615360e3",
   "metadata": {},
   "outputs": [
    {
     "data": {
      "text/html": [
       "<style>#sk-container-id-1 {color: black;background-color: white;}#sk-container-id-1 pre{padding: 0;}#sk-container-id-1 div.sk-toggleable {background-color: white;}#sk-container-id-1 label.sk-toggleable__label {cursor: pointer;display: block;width: 100%;margin-bottom: 0;padding: 0.3em;box-sizing: border-box;text-align: center;}#sk-container-id-1 label.sk-toggleable__label-arrow:before {content: \"▸\";float: left;margin-right: 0.25em;color: #696969;}#sk-container-id-1 label.sk-toggleable__label-arrow:hover:before {color: black;}#sk-container-id-1 div.sk-estimator:hover label.sk-toggleable__label-arrow:before {color: black;}#sk-container-id-1 div.sk-toggleable__content {max-height: 0;max-width: 0;overflow: hidden;text-align: left;background-color: #f0f8ff;}#sk-container-id-1 div.sk-toggleable__content pre {margin: 0.2em;color: black;border-radius: 0.25em;background-color: #f0f8ff;}#sk-container-id-1 input.sk-toggleable__control:checked~div.sk-toggleable__content {max-height: 200px;max-width: 100%;overflow: auto;}#sk-container-id-1 input.sk-toggleable__control:checked~label.sk-toggleable__label-arrow:before {content: \"▾\";}#sk-container-id-1 div.sk-estimator input.sk-toggleable__control:checked~label.sk-toggleable__label {background-color: #d4ebff;}#sk-container-id-1 div.sk-label input.sk-toggleable__control:checked~label.sk-toggleable__label {background-color: #d4ebff;}#sk-container-id-1 input.sk-hidden--visually {border: 0;clip: rect(1px 1px 1px 1px);clip: rect(1px, 1px, 1px, 1px);height: 1px;margin: -1px;overflow: hidden;padding: 0;position: absolute;width: 1px;}#sk-container-id-1 div.sk-estimator {font-family: monospace;background-color: #f0f8ff;border: 1px dotted black;border-radius: 0.25em;box-sizing: border-box;margin-bottom: 0.5em;}#sk-container-id-1 div.sk-estimator:hover {background-color: #d4ebff;}#sk-container-id-1 div.sk-parallel-item::after {content: \"\";width: 100%;border-bottom: 1px solid gray;flex-grow: 1;}#sk-container-id-1 div.sk-label:hover label.sk-toggleable__label {background-color: #d4ebff;}#sk-container-id-1 div.sk-serial::before {content: \"\";position: absolute;border-left: 1px solid gray;box-sizing: border-box;top: 0;bottom: 0;left: 50%;z-index: 0;}#sk-container-id-1 div.sk-serial {display: flex;flex-direction: column;align-items: center;background-color: white;padding-right: 0.2em;padding-left: 0.2em;position: relative;}#sk-container-id-1 div.sk-item {position: relative;z-index: 1;}#sk-container-id-1 div.sk-parallel {display: flex;align-items: stretch;justify-content: center;background-color: white;position: relative;}#sk-container-id-1 div.sk-item::before, #sk-container-id-1 div.sk-parallel-item::before {content: \"\";position: absolute;border-left: 1px solid gray;box-sizing: border-box;top: 0;bottom: 0;left: 50%;z-index: -1;}#sk-container-id-1 div.sk-parallel-item {display: flex;flex-direction: column;z-index: 1;position: relative;background-color: white;}#sk-container-id-1 div.sk-parallel-item:first-child::after {align-self: flex-end;width: 50%;}#sk-container-id-1 div.sk-parallel-item:last-child::after {align-self: flex-start;width: 50%;}#sk-container-id-1 div.sk-parallel-item:only-child::after {width: 0;}#sk-container-id-1 div.sk-dashed-wrapped {border: 1px dashed gray;margin: 0 0.4em 0.5em 0.4em;box-sizing: border-box;padding-bottom: 0.4em;background-color: white;}#sk-container-id-1 div.sk-label label {font-family: monospace;font-weight: bold;display: inline-block;line-height: 1.2em;}#sk-container-id-1 div.sk-label-container {text-align: center;}#sk-container-id-1 div.sk-container {/* jupyter's `normalize.less` sets `[hidden] { display: none; }` but bootstrap.min.css set `[hidden] { display: none !important; }` so we also need the `!important` here to be able to override the default hidden behavior on the sphinx rendered scikit-learn.org. See: https://github.com/scikit-learn/scikit-learn/issues/21755 */display: inline-block !important;position: relative;}#sk-container-id-1 div.sk-text-repr-fallback {display: none;}</style><div id=\"sk-container-id-1\" class=\"sk-top-container\"><div class=\"sk-text-repr-fallback\"><pre>DecisionTreeClassifier()</pre><b>In a Jupyter environment, please rerun this cell to show the HTML representation or trust the notebook. <br />On GitHub, the HTML representation is unable to render, please try loading this page with nbviewer.org.</b></div><div class=\"sk-container\" hidden><div class=\"sk-item\"><div class=\"sk-estimator sk-toggleable\"><input class=\"sk-toggleable__control sk-hidden--visually\" id=\"sk-estimator-id-1\" type=\"checkbox\" checked><label for=\"sk-estimator-id-1\" class=\"sk-toggleable__label sk-toggleable__label-arrow\">DecisionTreeClassifier</label><div class=\"sk-toggleable__content\"><pre>DecisionTreeClassifier()</pre></div></div></div></div></div>"
      ],
      "text/plain": [
       "DecisionTreeClassifier()"
      ]
     },
     "execution_count": 4,
     "metadata": {},
     "output_type": "execute_result"
    }
   ],
   "source": [
    "#linear regression\n",
    "from sklearn import linear_model\n",
    "reg = linear_model.LinearRegression()\n",
    "reg.fit(X_train, y_train)\n",
    "\n",
    "\n",
    "predictions = reg.predict(X_test)\n",
    "reg.coef_ #to get coefficients\n",
    "reg.intercept_ # to get bias term\n",
    "r2 = reg.score(X_train, y_train) #gives R^2 metric\n",
    "\n",
    "#ridge regression (regularized linear regression -- uses L2 norm for regularization)\n",
    "reg = linear_model.Ridge(alpha=0.1)\n",
    "reg.fit(X_train, y_train)\n",
    "r2 = reg.score(X_train, y_train) #gives R^2 metric\n",
    "\n",
    "#using ridgeCV to tune hyperparamter alpha with cross validation\n",
    "reg = linear_model.RidgeCV(alphas=[0.1, 0.01, 0.3, 0.2])\n",
    "reg.fit(X_train, y_train)\n",
    "reg.alpha_ #chosen alpha\n",
    "\n",
    "#lasso regression (sparse linear regression -- uses L1 norm for regularization)\n",
    "reg = linear_model.Lasso(alpha=0.1)\n",
    "reg.fit(data, labels)\n",
    "r2 = reg.score(X_train, y_train) #gives R^2 metric\n",
    "\n",
    "#using lassoCV to tune hyperparamter alpha with cross validation\n",
    "reg = linear_model.LassoCV(alphas=[0.1, 0.01, 0.3, 0.2])\n",
    "reg.fit(X_train, y_train)\n",
    "reg.alpha_ #chosen alpha\n",
    "\n",
    "#Bayesian ridge regression -- uses gamma distribution\n",
    "reg = linear_model.BayesianRidge()\n",
    "reg.fit(data, labels)\n",
    "reg.alpha_ #default 10^-6\n",
    "reg.lambda_ #default 10^-6\n",
    "\n",
    "\n",
    "#logistic regression classifies data based on logits\n",
    "reg = linear_model.LogisticRegression() #default setting for LogisticRegression is binary classification\n",
    "reg.fit(data, labels)\n",
    "\n",
    "#multinomial logistic regression\n",
    "reg = linear_model.LogisticRegression(solver='lbfgs', multi_class='multinomial', max_iter=200, penalty='l2') #default multiclass = ovr (one vs rest)\n",
    "reg.fit(data, labels)\n",
    "\n",
    "#logistic regression cross validated\n",
    "reg = linear_model.LogisticRegressionCV(solver='lbfgs', max_iter=1000)\n",
    "\n",
    "#one vs rest classifier using k neighbours classification\n",
    "clf = OneVsRestClassifier(KNeighborsClassifier())\n",
    "clf.fit(X_train, y_train)\n",
    "prediction = clf.predict(X_test)\n",
    "\n",
    "#decision trees \n",
    "from sklearn import tree\n",
    "clf_tree1 = tree.DecisionTreeClassifier() #for classification -- uses Gini impurity to split\n",
    "reg_tree1 = tree.DecisionTreeRegressor() #for regression -- uses MSE/MAE to split\n",
    "clf_tree2 = tree.DecisionTreeClassifier(max_depth=8)  # max depth of 8 -- set depth to avoid overfitting\n",
    "reg_tree2 = tree.DecisionTreeRegressor(max_depth=5)  # max depth of 5\n",
    "clf_tree1.fit(data, labels)"
   ]
  },
  {
   "cell_type": "code",
   "execution_count": 5,
   "id": "671fa592",
   "metadata": {},
   "outputs": [],
   "source": [
    "#k-fold cross validation\n",
    "from sklearn.model_selection import cross_val_score\n",
    "clf = linear_model.LogisticRegression(max_iter=3000)\n",
    "cv_score = cross_val_score(clf, data, labels, cv=3)  # k = 3"
   ]
  },
  {
   "cell_type": "code",
   "execution_count": 6,
   "id": "dc2f91ea",
   "metadata": {},
   "outputs": [],
   "source": [
    "#evaluating models\n",
    "from sklearn import metrics\n",
    "r2 = metrics.r2_score(y_test, prediction) #for linear reg\n",
    "mse = metrics.mean_squared_error(y_test, prediction) #for linear reg\n",
    "mae = metrics.mean_absolute_error(y_test, prediction) #for linear reg\n",
    "acc = metrics.accuracy_score(y_test, prediction) #for classification"
   ]
  },
  {
   "cell_type": "code",
   "execution_count": 7,
   "id": "9970eceb",
   "metadata": {},
   "outputs": [
    {
     "data": {
      "text/plain": [
       "{'alpha_1': 0.1, 'alpha_2': 0.1}"
      ]
     },
     "execution_count": 7,
     "metadata": {},
     "output_type": "execute_result"
    }
   ],
   "source": [
    "#exhaustive tuning using grid search CV\n",
    "reg = linear_model.BayesianRidge()\n",
    "params = {\n",
    "  'alpha_1':[0.1,0.2,0.3],\n",
    "  'alpha_2':[0.1,0.2,0.3]\n",
    "}\n",
    "reg_cv = GridSearchCV(reg, params, cv=5)\n",
    "reg_cv.fit(X_train, y_train)\n",
    "reg_cv.best_params_ #gives the best params"
   ]
  },
  {
   "cell_type": "code",
   "execution_count": 8,
   "id": "c47e5aab",
   "metadata": {},
   "outputs": [
    {
     "name": "stdout",
     "output_type": "stream",
     "text": [
      "[[0.8660254  0.70710678 0.57735027]\n",
      " [0.66666667 0.81649658 0.33333333]]\n"
     ]
    }
   ],
   "source": [
    "#clustering\n",
    "data = np.array([[1,1,0,1,1], [0,1,0,1,1], [1,0,0,1,1], [0,1,0,0,1]])\n",
    "data1 = np.array([[1,1,0,1,1], [0,1,0,1,1]])\n",
    "data2 = np.array([[1,0,0,1,1], [0,1,0,0,1], [1,0,1,1,0]])\n",
    "\n",
    "#cosine similarity\n",
    "from sklearn.metrics.pairwise import cosine_similarity\n",
    "cos_sims = cosine_similarity(data) #calculates cosine similarity between all comination of vectors and puts it into a n*n matrix\n",
    "cos_sims = cosine_similarity(data1, data2) #all comnbination of vectors from data1 and data2 -> n*m matrix \n",
    "print(cos_sims)\n"
   ]
  },
  {
   "cell_type": "code",
   "execution_count": 9,
   "id": "f540bf61",
   "metadata": {},
   "outputs": [
    {
     "data": {
      "text/plain": [
       "array([], dtype=int64)"
      ]
     },
     "execution_count": 9,
     "metadata": {},
     "output_type": "execute_result"
    }
   ],
   "source": [
    "#clustering\n",
    "data = np.array([[1,1,0,1,1], [0,1,0,1,1], [1,0,0,1,1], [0,1,0,0,1], [0,0,0,0,1], [0,1,0,0,0], [0,0,0,0,0]])\n",
    "data1 = np.array([[1,1,0,1,1], [0,1,0,1,1]])\n",
    "data2 = np.array([[1,0,0,1,1], [0,1,0,0,1], [1,0,1,1,0]])\n",
    "new_obs = np.array([[1,1,1,1,1]])\n",
    "\n",
    "#cosine similarity\n",
    "from sklearn.metrics.pairwise import cosine_similarity\n",
    "cos_sims = cosine_similarity(data) #calculates cosine similarity between all comination of vectors and puts it into a n*n matrix\n",
    "cos_sims = cosine_similarity(data1, data2) #all comnbination of vectors from data1 and data2 -> n*m matrix \n",
    "\n",
    "#k-nearest neighbours\n",
    "from sklearn.neighbors import NearestNeighbors\n",
    "nbrs = NearestNeighbors() #default k=5\n",
    "nbrs.fit(data)\n",
    "dists, knbrs = nbrs.kneighbors(new_obs)\n",
    "\n",
    "nbrs = NearestNeighbors(n_neighbors=2) #specify k\n",
    "\n",
    "#k-means clustering\n",
    "from sklearn.cluster import KMeans\n",
    "kmeans = KMeans(n_clusters=3)\n",
    "kmeans.fit(data)\n",
    "kmeans.labels_ #get labels for each entry\n",
    "kmeans.cluster_centers_ #get cluster centers\n",
    "pred_labels = kmeans.predict(new_obs)\n",
    "\n",
    "#mini-batch k-means clustering (as k-means on large data is slow, also quality diff is negligible)\n",
    "from sklearn.cluster import KMeans\n",
    "from sklearn.cluster import MiniBatchKMeans\n",
    "kmeans = MiniBatchKMeans(n_clusters=3, batch_size=10)\n",
    "kmeans.fit(data)\n",
    "kmeans.labels_ #get labels for each entry\n",
    "kmeans.cluster_centers_ #get cluster centers\n",
    "pred_labels = kmeans.predict(new_obs)\n",
    "\n",
    "#hierarchical clustering (Agglomerative/Top down)\n",
    "from sklearn.cluster import AgglomerativeClustering\n",
    "agg = AgglomerativeClustering(n_clusters=3)\n",
    "\n",
    "#meanshift clustering\n",
    "from sklearn.cluster import MeanShift\n",
    "mean_shift = MeanShift()\n",
    "mean_shift.fit(data)\n",
    "mean_shift.labels_\n",
    "mean_shift.cluster_centers_\n",
    "pred_labels = mean_shift.predict(new_obs)\n",
    "                \n",
    "#DBSCAN Clustering\n",
    "from sklearn.cluster import DBSCAN\n",
    "dbscan = DBSCAN(eps=1.2, min_samples=30) \n",
    "dbscan.fit(data)\n",
    "dbscan.labels_\n",
    "dbscan.core_sample_indices_\n",
    "\n"
   ]
  },
  {
   "cell_type": "code",
   "execution_count": 10,
   "id": "039b16f9",
   "metadata": {},
   "outputs": [],
   "source": [
    "#Evaluating clusters\n",
    "true_labels = np.array([0])\n",
    "#adjusted Rand Index\n",
    "from sklearn.metrics import adjusted_rand_score\n",
    "ari = adjusted_rand_score(pred_labels, true_labels)\n",
    "\n",
    "#adjusted mutual information\n",
    "from sklearn.metrics import adjusted_mutual_info_score\n",
    "ami = adjusted_mutual_info_score(pred_labels, true_labels)"
   ]
  },
  {
   "cell_type": "code",
   "execution_count": 11,
   "id": "151f61e8",
   "metadata": {},
   "outputs": [],
   "source": [
    "#Feature clutsering using feature agglomeration -- helps in feature dimentionality reduction\n",
    "from sklearn.cluster import FeatureAgglomeration\n",
    "agg = FeatureAgglomeration(n_clusters=2)\n",
    "new_data = agg.fit_transform(data)"
   ]
  },
  {
   "cell_type": "markdown",
   "id": "40d83cce",
   "metadata": {},
   "source": [
    "### Using XGBoost Library"
   ]
  },
  {
   "cell_type": "code",
   "execution_count": 12,
   "id": "b8fc8f3d",
   "metadata": {},
   "outputs": [
    {
     "data": {
      "image/png": "[encoded data removed]",
      "text/plain": [
       "<Figure size 640x480 with 1 Axes>"
      ]
     },
     "metadata": {},
     "output_type": "display_data"
    },
    {
     "data": {
      "image/png": "[encoded data removed]",
      "text/plain": [
       "<Figure size 640x480 with 1 Axes>"
      ]
     },
     "metadata": {},
     "output_type": "display_data"
    },
    {
     "data": {
      "text/plain": [
       "{'eval_metric': 'logloss', 'max_depth': 10, 'objective': 'binary:logistic'}"
      ]
     },
     "execution_count": 12,
     "metadata": {},
     "output_type": "execute_result"
    }
   ],
   "source": [
    "import xgboost as xgb\n",
    "\n",
    "#classification\n",
    "data = np.random.rand(100,10)\n",
    "labels = np.random.randint(2, size=100)\n",
    "new_data = np.random.rand(2,10)\n",
    "new_labels = np.array([0, 1])\n",
    "\n",
    "dmat1 = xgb.DMatrix(data, label=labels)\n",
    "deval = xgb.DMatrix(new_data, label=new_labels)\n",
    "\n",
    "params = {\n",
    "  'max_depth': 10, \n",
    "  'objective': 'binary:logistic',\n",
    "  'eval_metric':'logloss'\n",
    "}\n",
    "bst = xgb.train(params, dmat1)  # booster\n",
    "bst.eval(deval) # evaluation\n",
    "\n",
    "dpred = xgb.DMatrix(new_data)\n",
    "predictions = bst.predict(dpred)\n",
    "\n",
    "\n",
    "#use xgboost cross validation\n",
    "cv_results = xgb.cv(params, dmat1) #o/p is pandas DataFrame\n",
    "\n",
    "#set number of boosting iterations\n",
    "cv_results = xgb.cv(params, dmat1, num_boost_round=5)\n",
    "\n",
    "\n",
    "#save model\n",
    "bst.save_model('model.bin')\n",
    "\n",
    "#load model\n",
    "new_bst = xgb.Booster()\n",
    "new_bst.load_model('model.bin')\n",
    "\n",
    "#warapper to make the model similar to scikit learn\n",
    "model = xgb.XGBClassifier(objective='multi:softmax', eval_metric='mlogloss', use_label_encoder=False, num_class=2)\n",
    "model.fit(data, labels)\n",
    "predictions = model.predict(new_data) #returns actualk values and not predictions like in xcb.cv\n",
    "\n",
    "#regressor model\n",
    "model = xgb.XGBRegressor(max_depth=2)\n",
    "model.fit(data, labels)\n",
    "predictions = model.predict(new_data)\n",
    "\n",
    "#get feature importance of each feature in model\n",
    "model.feature_importances_\n",
    "\n",
    "#plot important features\n",
    "import matplotlib.pyplot as plt\n",
    "xgb.plot_importance(model) \n",
    "plt.show() # matplotlib plot - bar graph of F1-scores for each feature\n",
    "\n",
    "xgb.plot_importance(model, importance_type='gain') #default importance_type=weight\n",
    "plt.show() \n",
    "\n",
    "#use grid search cv to tune hyperparameters\n",
    "params = {\n",
    "  'max_depth': [5, 10], \n",
    "  'objective': ['binary:logistic'],\n",
    "  'eval_metric':['logloss']\n",
    "}\n",
    "\n",
    "\n",
    "cv_model = GridSearchCV(model, params, cv=4)\n",
    "cv_model.fit(data, labels)\n",
    "cv_model.best_params_"
   ]
  },
  {
   "cell_type": "markdown",
   "id": "41b2ac20",
   "metadata": {},
   "source": [
    "###### TL;DR NLP"
   ]
  },
  {
   "cell_type": "code",
   "execution_count": 13,
   "id": "70852d90",
   "metadata": {},
   "outputs": [],
   "source": [
    "docs = [\n",
    "       \"One Cent, Two Cents, Old Cent, New Cent: All About Money (Cat in the Hat's Learning Library\",\n",
    "       \"Inside Your Outside: All About the Human Body (Cat in the Hat's Learning Library)\",\n",
    "       \"Oh, The Things You Can Do That Are Good for You: All About Staying Healthy (Cat in the Hat's Learning Library)\",\n",
    "       \"On Beyond Bugs: All About Insects (Cat in the Hat's Learning Library)\"\n",
    "      ]\n",
    "text = [\n",
    "        \"There's No Place Like Space: All About Our Solar System (Cat in the Hat's Learning Library)\" \n",
    "]"
   ]
  },
  {
   "cell_type": "code",
   "execution_count": 14,
   "id": "d59656ea",
   "metadata": {},
   "outputs": [],
   "source": [
    "#TF-IDF implementation\n",
    "from sklearn.feature_extraction.text import CountVectorizer\n",
    "from sklearn.feature_extraction.text import TfidfTransformer\n",
    "\n",
    "#create a vocabulary of words, \n",
    "cv=CountVectorizer(max_df=0.95,         # ignore words that appear in 95% of documents\n",
    "                   max_features=10000,  # the size of the vocabulary\n",
    "                   ngram_range=(1,3)    # vocabulary contains single words, bigrams, trigrams\n",
    "                  )\n",
    "word_count_matrix=cv.fit_transform(docs)\n",
    "\n",
    "#create the transformer using word_count_matrix from CountVectorizer\n",
    "tfidf_transformer=TfidfTransformer(smooth_idf=True,use_idf=True)\n",
    "tfidf_transformer.fit(word_count_matrix)\n",
    "\n",
    "#for a random piece of text\n",
    "tf_idf_vec = tfidf_transformer.transform(cv.transform(text))"
   ]
  },
  {
   "cell_type": "code",
   "execution_count": 15,
   "id": "769161b4",
   "metadata": {},
   "outputs": [],
   "source": [
    "#use TfidfVectorizer to directly create a feature matrix\n",
    "from nltk.stem.porter import PorterStemmer\n",
    "porter=PorterStemmer()\n",
    "def tokenizer_porter(text):\n",
    "    return [porter.stem(word) for word in text.split()]\n",
    "\n",
    "from sklearn.feature_extraction.text import TfidfVectorizer\n",
    "\n",
    "tfidf = TfidfVectorizer(strip_accents=None, lowercase=False, preprocessor=None, tokenizer=tokenizer_porter, use_idf=True, norm='l2', smooth_idf=True)\n",
    "\n",
    "\n",
    "X=tfidf.fit_transform(text)"
   ]
  }
 ],
 "metadata": {
  "kernelspec": {
   "display_name": "firstEnv",
   "language": "python",
   "name": "firstenv"
  },
  "language_info": {
   "codemirror_mode": {
    "name": "ipython",
    "version": 3
   },
   "file_extension": ".py",
   "mimetype": "text/x-python",
   "name": "python",
   "nbconvert_exporter": "python",
   "pygments_lexer": "ipython3",
   "version": "3.9.13"
  }
 },
 "nbformat": 4,
 "nbformat_minor": 5
}
