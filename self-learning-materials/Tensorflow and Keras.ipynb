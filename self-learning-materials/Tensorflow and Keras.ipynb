{
 "cells": [
  {
   "cell_type": "markdown",
   "id": "28e2584a",
   "metadata": {},
   "source": [
    "## Tensorflow"
   ]
  },
  {
   "cell_type": "code",
   "execution_count": null,
   "id": "e350f102",
   "metadata": {},
   "outputs": [],
   "source": [
    "import tensorflow.compat.v1 as tf\n",
    "tf.disable_v2_behavior()\n",
    "from tensorflow import keras\n",
    "from tensorflow.keras import layers"
   ]
  },
  {
   "cell_type": "code",
   "execution_count": null,
   "id": "6acb49dd",
   "metadata": {},
   "outputs": [],
   "source": [
    "# Define Sequential model with 3 layers\n",
    "model = keras.Sequential(\n",
    "    [\n",
    "        layers.Dense(2, activation=\"relu\", name=\"layer1\"),\n",
    "        layers.Dense(3, activation=\"relu\", name=\"layer2\"),\n",
    "        layers.Dense(4, name=\"layer3\"),\n",
    "    ]\n",
    ")\n",
    "# Call model on a test input\n",
    "x = tf.ones((3, 3))\n",
    "y = model(x)"
   ]
  },
  {
   "cell_type": "code",
   "execution_count": null,
   "id": "677b14a6",
   "metadata": {},
   "outputs": [],
   "source": [
    "# Create 3 layers\n",
    "layer1 = layers.Dense(2, activation=\"relu\", name=\"layer1\")\n",
    "layer2 = layers.Dense(3, activation=\"relu\", name=\"layer2\")\n",
    "layer3 = layers.Dense(4, name=\"layer3\")\n",
    "\n",
    "# Call layers on a test input\n",
    "x = tf.ones((3, 3))\n",
    "labels_float = tf.ones((3,4))\n",
    "y = layer3(layer2(layer1(x)))"
   ]
  },
  {
   "cell_type": "code",
   "execution_count": null,
   "id": "dc80aa35",
   "metadata": {},
   "outputs": [],
   "source": [
    "#tf metrics\n",
    "#sigmoid-opposite of logits-real number mappings to probabilities\n",
    "probs = tf.math.sigmoid(y)\n",
    "rounded_probs = tf.math.round(tf.math.sigmoid(y)) #round to 0 or 1"
   ]
  },
  {
   "cell_type": "code",
   "execution_count": null,
   "id": "a32777ae",
   "metadata": {},
   "outputs": [],
   "source": [
    "#math\n",
    "#casting\n",
    "predictions = tf.cast(rounded_probs, dtype = tf.int32) \n",
    "labels = tf.cast(labels_float, dtype = tf.int32) \n",
    "\n",
    "#equal to\n",
    "is_correct = tf.math.equal(predictions, labels)\n",
    "\n",
    "#reduce mean\n",
    "tf.math.reduce_mean(tf.cast(is_correct, dtype=tf.float32))"
   ]
  },
  {
   "cell_type": "code",
   "execution_count": null,
   "id": "e2622a15",
   "metadata": {},
   "outputs": [],
   "source": [
    "#tf -- use cross entropy to calculate loss for classification\n",
    "cross_entropy=tf.nn.sigmoid_cross_entropy_with_logits(labels=labels_float, logits=y)\n",
    "loss=tf.math.reduce_mean(cross_entropy)"
   ]
  },
  {
   "cell_type": "code",
   "execution_count": null,
   "id": "7723eaab",
   "metadata": {},
   "outputs": [],
   "source": [
    "#use adam optimizer for reducing loss\n",
    "adam = tf.compat.v1.train.AdamOptimizer()\n",
    "train_op = adam.minimize(loss)"
   ]
  },
  {
   "cell_type": "code",
   "execution_count": null,
   "id": "013fa330",
   "metadata": {},
   "outputs": [],
   "source": [
    "#initialize global varaibles -- this ensure starting logits are zero\n",
    "init_op = tf.compat.v1.global_variables_initializer()"
   ]
  },
  {
   "cell_type": "code",
   "execution_count": null,
   "id": "74a1f2df",
   "metadata": {},
   "outputs": [],
   "source": [
    "#softmax for multiclass classification using MLP\n",
    "t = tf.random.uniform(shape=[4,5], minval=5, maxval=10, dtype=tf.float32)\n",
    "softmax_t = tf.nn.softmax(t)\n",
    "sess = tf.compat.v1.Session()\n",
    "sess.run(softmax_t)\n",
    "\n",
    "preds = tf.argmax(probs, axis=-1) # to get the label from the final probabilities of the output model"
   ]
  },
  {
   "cell_type": "markdown",
   "id": "de8ead08",
   "metadata": {},
   "source": [
    "## Keras"
   ]
  },
  {
   "cell_type": "code",
   "execution_count": null,
   "id": "074fcdce",
   "metadata": {},
   "outputs": [],
   "source": [
    "#create a model\n",
    "from tensorflow.keras.layers import Dense\n",
    "from tensorflow.keras import Sequential\n",
    "layer1 = Dense(5, activation='relu', input_dim=4)\n",
    "layer2 = Dense(3, activation='relu')\n",
    "layer3 = Dense(3, activation='softmax')\n",
    "model = Sequential([layer1, layer2, layer3])\n",
    "\n",
    "\n",
    "model.compile('adam',\n",
    "              loss='binary_crossentropy', #categorical_crossentropy for multiclass\n",
    "              metrics=['accuracy'])\n",
    "\n",
    "data = tf.random.uniform(shape=(100, 4) , maxval=3, dtype=tf.int32, seed=10)\n",
    "labels = tf.random.uniform(shape=(100, 3) , maxval=2, dtype=tf.int32, seed=10)\n",
    "eval_data = tf.random.uniform(shape=(10, 4) , maxval=3, dtype=tf.int32, seed=10)\n",
    "eval_labels = tf.random.uniform(shape=(10, 3) , maxval=2, dtype=tf.int32, seed=10)\n",
    "new_data = tf.random.uniform(shape=(10, 4) , maxval=3, dtype=tf.int32, seed=10)\n",
    "\n",
    "train_output = model.fit(data, labels,\n",
    "                         batch_size=20, epochs=5, steps_per_epoch=20)\n",
    "\n",
    "#dictionary that contains the metric values at each epoch of training\n",
    "train_output.history\n",
    "\n",
    "#evaluate model\n",
    "model.evaluate(eval_data, eval_labels, steps=20)\n",
    "\n",
    "#make predictions\n",
    "model.predict(new_data, steps=20)"
   ]
  }
 ],
 "metadata": {
  "kernelspec": {
   "display_name": "firstEnv",
   "language": "python",
   "name": "firstenv"
  },
  "language_info": {
   "codemirror_mode": {
    "name": "ipython",
    "version": 3
   },
   "file_extension": ".py",
   "mimetype": "text/x-python",
   "name": "python",
   "nbconvert_exporter": "python",
   "pygments_lexer": "ipython3",
   "version": "3.9.13"
  }
 },
 "nbformat": 4,
 "nbformat_minor": 5
}
